{
  "cells": [
    {
      "cell_type": "markdown",
      "metadata": {
        "id": "kdxEMqMvEGkp"
      },
      "source": [
        "# Chapter 8 - Storage and Feature Extraction of Graphs, Trees, and Networks\n",
        "\n",
        "This notebook contains code accompanying Chapter 8 Storage and Feature Extraction of Graphs, Trees, and Networks in *Practical Discrete Mathematics* by Ryan T. White and Archana Tikayat Ray.\n",
        "\n",
        "## Storage of Graphs and Networks\n",
        "\n",
        "Below are adjacency matrices for storing the graphs in Figure 8.1 and Figure 8.8 as well as an adjacency matrix for the directed graph in Figure 8.6."
      ]
    },
    {
      "cell_type": "code",
      "execution_count": 2,
      "metadata": {
        "id": "DeDTP19wEGks",
        "outputId": "73de23a0-4317-4f44-974f-bf8b0d59ffe6",
        "colab": {
          "base_uri": "https://localhost:8080/"
        }
      },
      "outputs": [
        {
          "output_type": "stream",
          "name": "stdout",
          "text": [
            "A1 = [[0 1 1 0 1 0]\n",
            " [1 0 1 1 0 1]\n",
            " [1 1 0 1 1 0]\n",
            " [0 1 1 0 1 0]\n",
            " [1 0 1 1 0 0]\n",
            " [0 1 0 0 0 0]]\n",
            "\n",
            " A2 = [[0 1 0 0 0 0]\n",
            " [1 0 0 0 0 1]\n",
            " [0 0 0 1 1 0]\n",
            " [0 0 1 0 1 0]\n",
            " [0 0 1 1 0 0]\n",
            " [0 1 0 0 0 0]]\n",
            "\n",
            " A3 = [[0 0 1 0 0 0]\n",
            " [1 0 0 0 0 1]\n",
            " [0 0 0 0 1 0]\n",
            " [0 1 1 0 1 0]\n",
            " [1 0 1 1 0 0]\n",
            " [0 0 0 0 0 1]]\n"
          ]
        }
      ],
      "source": [
        "import numpy\n",
        "\n",
        "# Create an adjacency matrix for the graph in Figure 8.1\n",
        "A1 = numpy.array([[0, 1, 1, 0, 1, 0], [1, 0, 1, 1, 0, 1],\n",
        "                 [1, 1, 0, 1, 1, 0], [0, 1, 1, 0, 1, 0],\n",
        "                 [1, 0, 1, 1, 0, 0], [0, 1, 0, 0, 0, 0]])\n",
        "\n",
        "# Create an adjacency matrix for the graph in Figure 8.8\n",
        "A2 = numpy.array([[0, 1, 0, 0, 0, 0], [1, 0, 0, 0, 0, 1],\n",
        "                 [0, 0, 0, 1, 1, 0], [0, 0, 1, 0, 1, 0],\n",
        "                 [0, 0, 1, 1, 0, 0], [0, 1, 0, 0, 0, 0]])\n",
        "\n",
        "# Create an adjacency matrix for the directed graph in Figure 8.6\n",
        "A3 = numpy.array([[0, 0, 1, 0, 0, 0], [1, 0, 0, 0, 0, 1],\n",
        "                 [0, 0, 0, 0, 1, 0], [0, 1, 1, 0, 1, 0],\n",
        "                 [1, 0, 1, 1, 0, 0], [0, 0, 0, 0, 0, 1]])\n",
        "\n",
        "# print the adjacency matrices\n",
        "print(\"A1 =\", A1)\n",
        "print(\"\\n A2 =\", A2)\n",
        "print(\"\\n A3 =\", A3)"
      ]
    },
    {
      "cell_type": "markdown",
      "metadata": {
        "id": "FGkGGsmNEGkv"
      },
      "source": [
        "Below are weight matrices for the networks in Figure 8.5 and Figure 8.7."
      ]
    },
    {
      "cell_type": "code",
      "execution_count": 3,
      "metadata": {
        "id": "VP_w96nMEGkv",
        "outputId": "e68c1738-a63b-45ca-a2d3-9f6c37c75614",
        "colab": {
          "base_uri": "https://localhost:8080/"
        }
      },
      "outputs": [
        {
          "output_type": "stream",
          "name": "stdout",
          "text": [
            "W1 = [[0 4 1 0 2 0]\n",
            " [4 0 2 1 0 1]\n",
            " [1 2 0 1 1 0]\n",
            " [0 1 1 0 2 0]\n",
            " [2 0 1 2 0 0]\n",
            " [0 1 0 0 0 0]]\n",
            "\n",
            " W2 = [[0 0 2 0 0 0]\n",
            " [1 0 0 0 0 2]\n",
            " [0 0 0 0 2 0]\n",
            " [0 2 3 0 4 0]\n",
            " [3 0 1 1 0 0]\n",
            " [0 0 0 0 0 1]]\n"
          ]
        }
      ],
      "source": [
        "import numpy\n",
        "\n",
        "# Create a weight matrix for the network in Figure 8.5\n",
        "W1 = numpy.array([[0, 4, 1, 0, 2, 0], [4, 0, 2, 1, 0, 1],\n",
        "                 [1, 2, 0, 1, 1, 0], [0, 1, 1, 0, 2, 0],\n",
        "                 [2, 0, 1, 2, 0, 0], [0, 1, 0, 0, 0, 0]])\n",
        "\n",
        "# Create a weight matrix for the directed network in Figure 8.7\n",
        "W2 = numpy.array([[0, 0, 2, 0, 0, 0], [1, 0, 0, 0, 0, 2],\n",
        "                 [0, 0, 0, 0, 2, 0], [0, 2, 3, 0, 4, 0],\n",
        "                 [3, 0, 1, 1, 0, 0], [0, 0, 0, 0, 0, 1]])\n",
        "\n",
        "# Print the weight matrices\n",
        "print(\"W1 =\", W1)\n",
        "print(\"\\n W2 =\", W2)"
      ]
    },
    {
      "cell_type": "markdown",
      "metadata": {
        "id": "m7SAOyM_EGkw"
      },
      "source": [
        "## Feature Extraction of Graphs"
      ]
    },
    {
      "cell_type": "markdown",
      "metadata": {
        "id": "x7taeIGHEGkw"
      },
      "source": [
        "Below is how we can find the degrees of the vertices of the graph in Figure 8.1."
      ]
    },
    {
      "cell_type": "code",
      "execution_count": 4,
      "metadata": {
        "id": "3H25B-paEGkw",
        "outputId": "d89a0dc6-f969-4d1e-acec-a4dba1b5bedd",
        "colab": {
          "base_uri": "https://localhost:8080/"
        }
      },
      "outputs": [
        {
          "output_type": "stream",
          "name": "stdout",
          "text": [
            "[3 4 4 3 3 1]\n",
            "[3 4 4 3 3 1]\n"
          ]
        }
      ],
      "source": [
        "# Find the degrees of each vertex of the graph in Figure 8.1\n",
        "\n",
        "# Using column sums\n",
        "print(numpy.sum(A1, axis=0))\n",
        "\n",
        "# Using row sums\n",
        "print(numpy.sum(A1, axis=1))"
      ]
    },
    {
      "cell_type": "markdown",
      "metadata": {
        "id": "X5qzEsCYEGkx"
      },
      "source": [
        "Below is how we can find the in-degrees and out-degrees of the vertices of the directed graph in Figure 8.6."
      ]
    },
    {
      "cell_type": "code",
      "execution_count": null,
      "metadata": {
        "id": "CpfWCzOfEGkx",
        "outputId": "3ae3e74f-ae85-4020-f211-bb49d2a6fe98"
      },
      "outputs": [
        {
          "name": "stdout",
          "output_type": "stream",
          "text": [
            "[1 2 1 3 3 1]\n",
            "[2 1 3 1 2 2]\n",
            "11\n",
            "11\n"
          ]
        }
      ],
      "source": [
        "# Find out-degrees for each vertex in the directed graph in Figure 8.6\n",
        "outdegrees = numpy.sum(A3, axis=1)\n",
        "print(outdegrees)\n",
        "\n",
        "# Find in-degrees for each vertex in the directed graph in Figure 8.6\n",
        "indegrees = numpy.sum(A3, axis=0)\n",
        "print(indegrees)\n",
        "\n",
        "print(numpy.sum(outdegrees))\n",
        "print(numpy.sum(indegrees))"
      ]
    },
    {
      "cell_type": "markdown",
      "metadata": {
        "id": "snNpxn64EGkx"
      },
      "source": [
        "Below is code to find the second and third powers of the adjacency matrix of the graph from Figure 8.1. The number in row $i$, column $j$ of each power represents the number of 2-edge and 3-edge paths between vertex $v_{i-1}$ and $v_{j-1}$, respectively."
      ]
    },
    {
      "cell_type": "code",
      "execution_count": 5,
      "metadata": {
        "id": "6eZnOY7XEGky",
        "outputId": "82eb7236-06c8-4ec4-9c48-d10ade052835",
        "colab": {
          "base_uri": "https://localhost:8080/"
        }
      },
      "outputs": [
        {
          "output_type": "stream",
          "name": "stdout",
          "text": [
            "[[3 1 2 3 1 1]\n",
            " [1 4 2 1 3 0]\n",
            " [2 2 4 2 2 1]\n",
            " [3 1 2 3 1 1]\n",
            " [1 3 2 1 3 0]\n",
            " [1 0 1 1 0 1]]\n",
            "\n",
            " [[4 9 8 4 8 1]\n",
            " [9 4 9 9 4 4]\n",
            " [8 9 8 8 8 2]\n",
            " [4 9 8 4 8 1]\n",
            " [8 4 8 8 4 3]\n",
            " [1 4 2 1 3 0]]\n"
          ]
        }
      ],
      "source": [
        "# Find the second power of adjacency matrix A1\n",
        "print(numpy.linalg.matrix_power(A1,2))\n",
        "\n",
        "# Find the third power of adjacency matrix A1\n",
        "print(\"\\n\", numpy.linalg.matrix_power(A1,3))"
      ]
    },
    {
      "cell_type": "markdown",
      "metadata": {
        "id": "8rfF7UpgEGky"
      },
      "source": [
        "The code below finds the number of paths between several pairs of vertices of different lengths for the directed graph in Figure 8.8."
      ]
    },
    {
      "cell_type": "code",
      "execution_count": null,
      "metadata": {
        "id": "C98wyFANEGky",
        "outputId": "14f28229-aace-4ea1-d1a6-fe732f746bc9"
      },
      "outputs": [
        {
          "name": "stdout",
          "output_type": "stream",
          "text": [
            "There are 0 paths of length 1 from v1 to v6\n",
            "There are 1 paths of length 2 from v1 to v6\n",
            "There are 0 paths of length 3 from v1 to v6\n",
            "There are 2 paths of length 4 from v1 to v6\n",
            "There are 0 paths of length 5 from v1 to v6\n",
            "There are 4 paths of length 6 from v1 to v6\n",
            "There are 0 paths of length 1 from v2 to v3\n",
            "There are 0 paths of length 2 from v2 to v3\n",
            "There are 0 paths of length 3 from v2 to v3\n",
            "There are 0 paths of length 4 from v2 to v3\n",
            "There are 0 paths of length 5 from v2 to v3\n",
            "There are 0 paths of length 6 from v2 to v3\n"
          ]
        }
      ],
      "source": [
        "# Print the number of paths from v1 to v6 of each length from 1 to 6\n",
        "for counter in range(1,7):\n",
        "    A2counter = numpy.linalg.matrix_power(A2,counter)\n",
        "    print(\"There are\", A2counter[0,5], \"paths of length\", counter, \"from v1 to v6\")\n",
        "\n",
        "# Print the number of paths from v2 to v3 of each length from 1 to 6\n",
        "for counter in range(1,7):\n",
        "    A2counter = numpy.linalg.matrix_power(A2,counter)\n",
        "    print(\"There are\", A2counter[1,2], \"paths of length\", counter, \"from v2 to v3\")"
      ]
    },
    {
      "cell_type": "markdown",
      "source": [
        "base on the code below find the number of path in"
      ],
      "metadata": {
        "id": "nXlbLizAFbwZ"
      }
    },
    {
      "cell_type": "code",
      "source": [
        "# Print the number of paths from v1 to v6 of each length from 1 to 6\n",
        "for counter in range(1,7):\n",
        "    A2counter = numpy.linalg.matrix_power(A2,counter)\n",
        "    print(\"There are\", A2counter[0,5], \"paths of length\", counter, \"from v1 to v6 in A2\")\n",
        "\n",
        "# Print the number of paths from v2 to v3 of each length from 1 to 6\n",
        "for counter in range(1,7):\n",
        "    A2counter = numpy.linalg.matrix_power(A2,counter)\n",
        "    print(\"There are\", A2counter[1,2], \"paths of length\", counter, \"from v2 to v3 in A2\")"
      ],
      "metadata": {
        "id": "m85MG-2IFjzD",
        "outputId": "3a6ff551-086f-49bb-b956-41df02c7df76",
        "colab": {
          "base_uri": "https://localhost:8080/"
        }
      },
      "execution_count": 8,
      "outputs": [
        {
          "output_type": "stream",
          "name": "stdout",
          "text": [
            "There are 0 paths of length 1 from v1 to v6 in A2\n",
            "There are 1 paths of length 2 from v1 to v6 in A2\n",
            "There are 0 paths of length 3 from v1 to v6 in A2\n",
            "There are 2 paths of length 4 from v1 to v6 in A2\n",
            "There are 0 paths of length 5 from v1 to v6 in A2\n",
            "There are 4 paths of length 6 from v1 to v6 in A2\n",
            "There are 0 paths of length 1 from v2 to v3 in A2\n",
            "There are 0 paths of length 2 from v2 to v3 in A2\n",
            "There are 0 paths of length 3 from v2 to v3 in A2\n",
            "There are 0 paths of length 4 from v2 to v3 in A2\n",
            "There are 0 paths of length 5 from v2 to v3 in A2\n",
            "There are 0 paths of length 6 from v2 to v3 in A2\n"
          ]
        }
      ]
    },
    {
      "cell_type": "code",
      "source": [
        "# Print the number of paths from v1 to v6 of each length from 1 to 6 in A1\n",
        "for counter in range(1,7):\n",
        "    A1counter = numpy.linalg.matrix_power(A1,counter)\n",
        "    print(\"There are\", A1counter[0,5], \"paths of length\", counter, \"from v1 to v6 in A1\")\n",
        "\n",
        "# Print the number of paths from v2 to v3 of each length from 1 to 6 in A1\n",
        "for counter in range(1,7):\n",
        "    A1counter = numpy.linalg.matrix_power(A1,counter)\n",
        "    print(\"There are\", A1counter[1,2], \"paths of length\", counter, \"from v2 to v3 in A1\")"
      ],
      "metadata": {
        "id": "YT5XSHNsGAzx",
        "outputId": "4e6c18a8-bb19-4130-8a96-0fa9541ad4f0",
        "colab": {
          "base_uri": "https://localhost:8080/"
        }
      },
      "execution_count": 6,
      "outputs": [
        {
          "output_type": "stream",
          "name": "stdout",
          "text": [
            "There are 0 paths of length 1 from v1 to v6 in A1\n",
            "There are 1 paths of length 2 from v1 to v6 in A1\n",
            "There are 1 paths of length 3 from v1 to v6 in A1\n",
            "There are 9 paths of length 4 from v1 to v6 in A1\n",
            "There are 17 paths of length 5 from v1 to v6 in A1\n",
            "There are 84 paths of length 6 from v1 to v6 in A1\n",
            "There are 1 paths of length 1 from v2 to v3 in A1\n",
            "There are 2 paths of length 2 from v2 to v3 in A1\n",
            "There are 9 paths of length 3 from v2 to v3 in A1\n",
            "There are 26 paths of length 4 from v2 to v3 in A1\n",
            "There are 92 paths of length 5 from v2 to v3 in A1\n",
            "There are 292 paths of length 6 from v2 to v3 in A1\n"
          ]
        }
      ]
    },
    {
      "cell_type": "code",
      "source": [
        "# Print the number of paths from v1 to v6 of each length from 1 to 6 in A1\n",
        "for counter in range(1,7):\n",
        "    A3counter = numpy.linalg.matrix_power(A3,counter)\n",
        "    print(\"There are\", A3counter[0,5], \"paths of length\", counter, \"from v1 to v6 in A3\")\n",
        "\n",
        "# Print the number of paths from v2 to v3 of each length from 1 to 6 in A1\n",
        "for counter in range(1,7):\n",
        "    A3counter = numpy.linalg.matrix_power(A3,counter)\n",
        "    print(\"There are\", A3counter[1,2], \"paths of length\", counter, \"from v2 to v3 in A3\")"
      ],
      "metadata": {
        "id": "b4Ikp16hH-aG",
        "outputId": "cf726b90-416c-4ed9-9c5b-14fa3d9b1b00",
        "colab": {
          "base_uri": "https://localhost:8080/"
        }
      },
      "execution_count": 11,
      "outputs": [
        {
          "output_type": "stream",
          "name": "stdout",
          "text": [
            "There are 0 paths of length 1 from v1 to v6 in A3\n",
            "There are 0 paths of length 2 from v1 to v6 in A3\n",
            "There are 0 paths of length 3 from v1 to v6 in A3\n",
            "There are 0 paths of length 4 from v1 to v6 in A3\n",
            "There are 1 paths of length 5 from v1 to v6 in A3\n",
            "There are 1 paths of length 6 from v1 to v6 in A3\n",
            "There are 0 paths of length 1 from v2 to v3 in A3\n",
            "There are 1 paths of length 2 from v2 to v3 in A3\n",
            "There are 0 paths of length 3 from v2 to v3 in A3\n",
            "There are 1 paths of length 4 from v2 to v3 in A3\n",
            "There are 2 paths of length 5 from v2 to v3 in A3\n",
            "There are 2 paths of length 6 from v2 to v3 in A3\n"
          ]
        }
      ]
    },
    {
      "cell_type": "code",
      "source": [
        "# Print the number of paths from v1 to v6 of each length from 1 to 6\n",
        "for counter in range(1,7):\n",
        "    W1counter = numpy.linalg.matrix_power(W1,counter)\n",
        "    print(\"There are\", W1counter[0,5], \"paths of length\", counter, \"from v1 to v6 in W1\")\n",
        "\n",
        "# Print the number of paths from v2 to v3 of each length from 1 to 6\n",
        "for counter in range(1,7):\n",
        "    W1counter = numpy.linalg.matrix_power(W1,counter)\n",
        "    print(\"There are\", W1counter[1,2], \"paths of length\", counter, \"from v2 to v3 in W1\")"
      ],
      "metadata": {
        "id": "OSDpTwrIGM2m",
        "outputId": "13ffcd8c-fc49-4cb0-a829-0eb13d7fa44d",
        "colab": {
          "base_uri": "https://localhost:8080/"
        }
      },
      "execution_count": 9,
      "outputs": [
        {
          "output_type": "stream",
          "name": "stdout",
          "text": [
            "There are 0 paths of length 1 from v1 to v6 in W1\n",
            "There are 4 paths of length 2 from v1 to v6 in W1\n",
            "There are 2 paths of length 3 from v1 to v6 in W1\n",
            "There are 117 paths of length 4 from v1 to v6 in W1\n",
            "There are 166 paths of length 5 from v1 to v6 in W1\n",
            "There are 3657 paths of length 6 from v1 to v6 in W1\n",
            "There are 2 paths of length 1 from v2 to v3 in W1\n",
            "There are 5 paths of length 2 from v2 to v3 in W1\n",
            "There are 60 paths of length 3 from v2 to v3 in W1\n",
            "There are 221 paths of length 4 from v2 to v3 in W1\n",
            "There are 1990 paths of length 5 from v2 to v3 in W1\n",
            "There are 8560 paths of length 6 from v2 to v3 in W1\n"
          ]
        }
      ]
    },
    {
      "cell_type": "code",
      "source": [
        "# Print the number of paths from v1 to v6 of each length from 1 to 6\n",
        "for counter in range(1,7):\n",
        "    W2counter = numpy.linalg.matrix_power(W2,counter)\n",
        "    print(\"There are\", W2counter[0,5], \"paths of length\", counter, \"from v1 to v6 in W2\")\n",
        "\n",
        "# Print the number of paths from v2 to v3 of each length from 1 to 6\n",
        "for counter in range(1,7):\n",
        "    W2counter = numpy.linalg.matrix_power(W2,counter)\n",
        "    print(\"There are\", W2counter[1,2], \"paths of length\", counter, \"from v2 to v3 in W2\")"
      ],
      "metadata": {
        "id": "uDyHagsbGJmQ",
        "outputId": "06f431b6-6eea-48fa-cb94-6b0f73c19e6e",
        "colab": {
          "base_uri": "https://localhost:8080/"
        }
      },
      "execution_count": 10,
      "outputs": [
        {
          "output_type": "stream",
          "name": "stdout",
          "text": [
            "There are 0 paths of length 1 from v1 to v6 in W2\n",
            "There are 0 paths of length 2 from v1 to v6 in W2\n",
            "There are 0 paths of length 3 from v1 to v6 in W2\n",
            "There are 0 paths of length 4 from v1 to v6 in W2\n",
            "There are 16 paths of length 5 from v1 to v6 in W2\n",
            "There are 16 paths of length 6 from v1 to v6 in W2\n",
            "There are 0 paths of length 1 from v2 to v3 in W2\n",
            "There are 2 paths of length 2 from v2 to v3 in W2\n",
            "There are 0 paths of length 3 from v2 to v3 in W2\n",
            "There are 4 paths of length 4 from v2 to v3 in W2\n",
            "There are 36 paths of length 5 from v2 to v3 in W2\n",
            "There are 24 paths of length 6 from v2 to v3 in W2\n"
          ]
        }
      ]
    }
  ],
  "metadata": {
    "kernelspec": {
      "display_name": "Python 3",
      "name": "python3"
    },
    "language_info": {
      "name": "python"
    },
    "colab": {
      "provenance": []
    }
  },
  "nbformat": 4,
  "nbformat_minor": 0
}