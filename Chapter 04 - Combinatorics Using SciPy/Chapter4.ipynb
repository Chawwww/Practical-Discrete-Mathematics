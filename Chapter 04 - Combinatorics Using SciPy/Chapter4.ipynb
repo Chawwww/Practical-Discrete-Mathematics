{
  "cells": [
    {
      "cell_type": "markdown",
      "metadata": {
        "id": "RJrT_NKqP9do"
      },
      "source": [
        "# Chapter 4 - Combinatorics Using SciPy\n",
        "\n",
        "This notebook contains code accompanying Chapter 4 Combinatorics Using SciPy in *Practical Discrete Mathematics* by Ryan T. White and Archana Tikayat Ray.\n",
        "\n",
        "## Counting Permutations and Combinations of Objects\n",
        "\n",
        "### Growth of Factorials\n",
        "\n",
        "Below, we compute some factorials, which count permutations."
      ]
    },
    {
      "cell_type": "code",
      "execution_count": null,
      "metadata": {
        "id": "uqmn37DoP9dr",
        "outputId": "e9da75b8-b389-4ea5-d7f2-a34a401bf13e"
      },
      "outputs": [
        {
          "name": "stdout",
          "output_type": "stream",
          "text": [
            "2432902008176640000\n",
            "93326215443944152681699238856266700490715968264381621468592963895217599993229915608941463976156518286253697920827223758251185210916864000000000000000000000000\n"
          ]
        }
      ],
      "source": [
        "import math\n",
        "print(math.factorial(20))\n",
        "print(math.factorial(100))"
      ]
    },
    {
      "cell_type": "markdown",
      "metadata": {
        "id": "mrODQzdgP9du"
      },
      "source": [
        "### Example: Counting playlists\n",
        "\n",
        "The number of 10-permutations of the 20-song list can be computed with Python as follows."
      ]
    },
    {
      "cell_type": "code",
      "execution_count": null,
      "metadata": {
        "id": "j1cRVLNgP9dv",
        "outputId": "2d3d06b7-8f95-4388-c5fc-559b560dd03f"
      },
      "outputs": [
        {
          "name": "stdout",
          "output_type": "stream",
          "text": [
            "670442572800.0\n"
          ]
        }
      ],
      "source": [
        "import math\n",
        "print(math.factorial(20)/math.factorial(20-10))"
      ]
    },
    {
      "cell_type": "markdown",
      "metadata": {
        "id": "5U-ij7siP9dv"
      },
      "source": [
        "### Example: Teambuilding\n",
        "\n",
        "The code below finds the number of possible 4-person teams we could build from four of twenty people."
      ]
    },
    {
      "cell_type": "code",
      "execution_count": null,
      "metadata": {
        "id": "3VSngGFsP9dw",
        "outputId": "7ab844aa-cb1c-45a7-e8f1-758bab0ccf56"
      },
      "outputs": [
        {
          "name": "stdout",
          "output_type": "stream",
          "text": [
            "4845.0\n",
            "4845.0\n"
          ]
        }
      ],
      "source": [
        "# using the factorial function\n",
        "import math\n",
        "print(math.factorial(20) / math.factorial(4) / math.factorial(20-4))\n",
        "\n",
        "# import the special functions from sciPy\n",
        "import scipy.special\n",
        "print(scipy.special.binom(20,4))"
      ]
    },
    {
      "cell_type": "markdown",
      "metadata": {
        "id": "ZZvUj0JgP9dw"
      },
      "source": [
        "## Applications to Memory Allocation\n",
        "\n",
        "### Example: Pre-allocating Memory\n",
        "\n",
        "Suppose we wish to create a large list of 1,000,000 numbers. The simplest way is to just run a loop, adding one element at a time to the vector. (Note that the runtime will vary depending on the hardware where you run the code.)"
      ]
    },
    {
      "cell_type": "code",
      "execution_count": null,
      "metadata": {
        "id": "qySzvGkXP9dx",
        "outputId": "1dc53c68-7cad-4702-ebcc-ddfb91bd362a"
      },
      "outputs": [
        {
          "name": "stdout",
          "output_type": "stream",
          "text": [
            "0.13155269622802734\n"
          ]
        }
      ],
      "source": [
        "import time\n",
        "\n",
        "number = 1000000\n",
        "\n",
        "# Check the current time\n",
        "startTime = time.time()\n",
        "\n",
        "# Create an empty list\n",
        "list = []\n",
        "\n",
        "# Add items to the list one by one\n",
        "for counter in range(number):\n",
        "    list.append(counter)\n",
        "\n",
        "# Display the run time\n",
        "print(time.time() - startTime)"
      ]
    },
    {
      "cell_type": "markdown",
      "metadata": {
        "id": "oXjhxkLlP9dy"
      },
      "source": [
        "The code below can pre-allocate an array with 1,000,000 and fill it in with 1, 2, ..., 1,000,000. (Note that the runtime will vary depending on the hardware where you run the code.)"
      ]
    },
    {
      "cell_type": "code",
      "execution_count": null,
      "metadata": {
        "id": "rFn4Ze-nP9dy",
        "outputId": "04bbd241-6507-4360-f1c5-9f9521e5e8ab"
      },
      "outputs": [
        {
          "name": "stdout",
          "output_type": "stream",
          "text": [
            "0.10027527809143066\n"
          ]
        }
      ],
      "source": [
        "import time\n",
        "number = 1000000\n",
        "\n",
        "# Check the current time\n",
        "startTime = time.time()\n",
        "\n",
        "# Create a list of 1000000 zeros\n",
        "list = [None]*number\n",
        "\n",
        "# Add items to the list one by one\n",
        "for counter in range(number):\n",
        "    list[counter] = counter\n",
        "\n",
        "# Display the run time\n",
        "print(time.time() - startTime)"
      ]
    },
    {
      "cell_type": "markdown",
      "metadata": {
        "id": "IrA0CaqLP9dz"
      },
      "source": [
        "## Efficacy of Brute Force Algorithms\n",
        "\n",
        "### Example: Caesar Cipher\n",
        "\n",
        "A brute force check of how the text would be decoded for each possible Caesar cipher."
      ]
    },
    {
      "cell_type": "code",
      "execution_count": null,
      "metadata": {
        "id": "H2P63CbiP9dz",
        "outputId": "b43040a9-bac4-40d7-e55b-2f4a465e0f54"
      },
      "outputs": [
        {
          "name": "stdout",
          "output_type": "stream",
          "text": [
            "0 nzohfu gur rarzl ng avtug\n",
            "1 oapigv hvs sbsam oh bwuvh\n",
            "2 pbqjhw iwt tctbn pi cxvwi\n",
            "3 qcrkix jxu uduco qj dywxj\n",
            "4 rdsljy kyv vevdp rk ezxyk\n",
            "5 setmkz lzw wfweq sl fayzl\n",
            "6 tfunla max xgxfr tm gbzam\n",
            "7 ugvomb nby yhygs un hcabn\n",
            "8 vhwpnc ocz zizht vo idbco\n",
            "9 wixqod pda ajaiu wp jecdp\n",
            "10 xjyrpe qeb bkbjv xq kfdeq\n",
            "11 ykzsqf rfc clckw yr lgefr\n",
            "12 zlatrg sgd dmdlx zs mhfgs\n",
            "13 ambush the enemy at night\n",
            "14 bncvti uif fofnz bu ojhiu\n",
            "15 codwuj vjg gpgoa cv pkijv\n",
            "16 dpexvk wkh hqhpb dw qljkw\n",
            "17 eqfywl xli iriqc ex rmklx\n",
            "18 frgzxm ymj jsjrd fy snlmy\n",
            "19 gshayn znk ktkse gz tomnz\n",
            "20 htibzo aol lultf ha upnoa\n",
            "21 iujcap bpm mvmug ib vqopb\n",
            "22 jvkdbq cqn nwnvh jc wrpqc\n",
            "23 kwlecr dro oxowi kd xsqrd\n",
            "24 lxmfds esp pypxj le ytrse\n",
            "25 mynget ftq qzqyk mf zustf\n"
          ]
        }
      ],
      "source": [
        "# Intercepted message\n",
        "codedMessage = 'nzohfu gur rarzl ng avtug'\n",
        "\n",
        "# We will shift by 0, shift by 1, shift by 2, ... and print the results\n",
        "for counter in range(26):\n",
        "    # Start with no guess\n",
        "    guessedMessage = ''\n",
        "\n",
        "    # Loop through each letter in the coded message\n",
        "    for x in codedMessage:\n",
        "\n",
        "        # If x is not a space\n",
        "        if x != ' ':\n",
        "\n",
        "            # Shift the letter forward by counter\n",
        "            if ord(x)+counter <= 122:\n",
        "                x = chr(ord(x)+counter)\n",
        "\n",
        "            # Subtract 26 if we go beyond z\n",
        "            else:\n",
        "                x = chr(ord(x)+counter-26)\n",
        "\n",
        "        # Build a guess for the message one letter at a time\n",
        "        guessedMessage = guessedMessage + x\n",
        "\n",
        "    # Print the counter (the shift) and the message\n",
        "    print(counter, guessedMessage)\n"
      ]
    },
    {
      "cell_type": "markdown",
      "metadata": {
        "id": "xSFQgHt7P9d0"
      },
      "source": [
        "Clearly, the length of the shift is 13 letters as only this one produces an intelligible message."
      ]
    },
    {
      "cell_type": "markdown",
      "source": [
        "question 1"
      ],
      "metadata": {
        "id": "m_CMt9wsP_4n"
      }
    },
    {
      "cell_type": "code",
      "source": [
        "# prompt: Original word:\"S3CURE!\"\n",
        "# Decryted Word:\"V3FZWH!\" create a caser cipher # Intercepted message\n",
        "# codedMessage = 'nzohfu gur rarzl ng avtug'\n",
        "# # We will shift by 0, shift by 1, shift by 2, ... and print the results\n",
        "# for counter in range(26):\n",
        "#     # Start with no guess\n",
        "#     guessedMessage = ''\n",
        "#     # Loop through each letter in the coded message\n",
        "#     for x in codedMessage:\n",
        "#         # If x is not a space\n",
        "#         if x != ' ':\n",
        "#             # Shift the letter forward by counter\n",
        "#             if ord(x)+counter <= 122:\n",
        "#                 x = chr(ord(x)+counter)\n",
        "#             # Subtract 26 if we go beyond z\n",
        "#             else:\n",
        "#                 x = chr(ord(x)+counter-26)\n",
        "#         # Build a guess for the message one letter at a time\n",
        "#         guessedMessage = guessedMessage + x\n",
        "#     # Print the counter (the shift) and the message\n",
        "#     print(counter, guessedMessage) LIKE THIS ONE\n",
        "\n",
        "def caesar_cipher_decrypt(coded_message, shift):\n",
        "\n",
        "    decrypted_message = ''\n",
        "    for char in coded_message:\n",
        "        if 'a' <= char <= 'z':\n",
        "            decrypted_char = chr(((ord(char) - ord('a') - shift) % 26) + ord('a'))\n",
        "        elif 'A' <= char <= 'Z':\n",
        "            decrypted_char = chr(((ord(char) - ord('A') - shift) % 26) + ord('A'))\n",
        "        else:\n",
        "            decrypted_char = char\n",
        "        decrypted_message += decrypted_char\n",
        "    return decrypted_message\n",
        "\n",
        "\n",
        "# Example usage with the given original and decrypted words\n",
        "original_word = \"S3CURE!\"\n",
        "decrypted_word = \"V3FZWH!\"\n",
        "\n",
        "# Find the shift value\n",
        "shift = ord(decrypted_word[0]) - ord(original_word[0])\n",
        "\n",
        "\n",
        "coded_message = 'S3CURE!'\n",
        "# Brute force through all possible shifts and display the results\n",
        "for counter in range(26):\n",
        "    guessed_message = caesar_cipher_decrypt(coded_message, counter)\n",
        "    print(counter, guessed_message)"
      ],
      "metadata": {
        "id": "yPLzD0L3QB6p",
        "outputId": "52aa0280-f830-4619-916a-15abfe932890",
        "colab": {
          "base_uri": "https://localhost:8080/"
        }
      },
      "execution_count": 56,
      "outputs": [
        {
          "output_type": "stream",
          "name": "stdout",
          "text": [
            "0 S3CURE!\n",
            "1 R3BTQD!\n",
            "2 Q3ASPC!\n",
            "3 P3ZROB!\n",
            "4 O3YQNA!\n",
            "5 N3XPMZ!\n",
            "6 M3WOLY!\n",
            "7 L3VNKX!\n",
            "8 K3UMJW!\n",
            "9 J3TLIV!\n",
            "10 I3SKHU!\n",
            "11 H3RJGT!\n",
            "12 G3QIFS!\n",
            "13 F3PHER!\n",
            "14 E3OGDQ!\n",
            "15 D3NFCP!\n",
            "16 C3MEBO!\n",
            "17 B3LDAN!\n",
            "18 A3KCZM!\n",
            "19 Z3JBYL!\n",
            "20 Y3IAXK!\n",
            "21 X3HZWJ!\n",
            "22 W3GYVI!\n",
            "23 V3FXUH!\n",
            "24 U3EWTG!\n",
            "25 T3DVSF!\n"
          ]
        }
      ]
    },
    {
      "cell_type": "code",
      "source": [
        "def caesar_cipher(text, shift):\n",
        "    result = ''\n",
        "    for char in text:\n",
        "        if char.isalpha():\n",
        "            start = ord('a') if char.islower() else ord('A')\n",
        "            shifted_char = chr((ord(char) - start + shift) % 26 + start)\n",
        "        elif char.isdigit():\n",
        "            shifted_char = str((int(char) + shift) % 10)  # Handle digits\n",
        "        else:\n",
        "            shifted_char = char  # Keep non-alphanumeric characters as is\n",
        "        result += shifted_char\n",
        "    return result\n",
        "\n",
        "original_word = \"S3CURE!\"\n",
        "decrypted_word = \"V3FZWH!\"\n",
        "\n",
        "shift = ord(decrypted_word[0]) - ord(original_word[0])  # Calculate shift from the first letters\n",
        "\n",
        "print(f\"The shift value is: {shift}\")\n",
        "\n",
        "coded_message = \"S3CURE!\"\n",
        "\n",
        "# Decrypt the coded message using the calculated shift\n",
        "decrypted_message = caesar_cipher(coded_message, -shift)  # Use -shift for decryption\n",
        "\n",
        "# Print the original and decrypted messages\n",
        "print(f\"Original message: {coded_message}\")\n",
        "print(f\"Decrypted message: {decrypted_word}\")\n",
        "\n",
        "for counter in range(26):\n",
        "    guessed_message = caesar_cipher(coded_message, counter)\n",
        "    print(counter, guessed_message)"
      ],
      "metadata": {
        "id": "LgXdIvf4R9PA",
        "outputId": "db0d836c-535e-41e7-88e7-2934e7c87864",
        "colab": {
          "base_uri": "https://localhost:8080/"
        }
      },
      "execution_count": 64,
      "outputs": [
        {
          "output_type": "stream",
          "name": "stdout",
          "text": [
            "The shift value is: 3\n",
            "Original message: S3CURE!\n",
            "Decrypted message: V3FZWH!\n",
            "0 S3CURE!\n",
            "1 T4DVSF!\n",
            "2 U5EWTG!\n",
            "3 V6FXUH!\n",
            "4 W7GYVI!\n",
            "5 X8HZWJ!\n",
            "6 Y9IAXK!\n",
            "7 Z0JBYL!\n",
            "8 A1KCZM!\n",
            "9 B2LDAN!\n",
            "10 C3MEBO!\n",
            "11 D4NFCP!\n",
            "12 E5OGDQ!\n",
            "13 F6PHER!\n",
            "14 G7QIFS!\n",
            "15 H8RJGT!\n",
            "16 I9SKHU!\n",
            "17 J0TLIV!\n",
            "18 K1UMJW!\n",
            "19 L2VNKX!\n",
            "20 M3WOLY!\n",
            "21 N4XPMZ!\n",
            "22 O5YQNA!\n",
            "23 P6ZROB!\n",
            "24 Q7ASPC!\n",
            "25 R8BTQD!\n"
          ]
        }
      ]
    },
    {
      "cell_type": "code",
      "source": [
        "def caesar_cipher_decrypt(text, shift):\n",
        "    result = ''\n",
        "    for char in text:\n",
        "        if char.isalpha():\n",
        "            start = ord('a') if char.islower() else ord('A')\n",
        "            shifted_char = chr((ord(char) - start - shift) % 26 + start)\n",
        "        elif char.isdigit():\n",
        "            shifted_char = str((int(char) - shift) % 10)\n",
        "        else:\n",
        "            shifted_char = char\n",
        "        result += shifted_char\n",
        "    return result\n",
        "\n",
        "def find_shift(original_word, decrypted_word):\n",
        "    # Find shift value based on given words\n",
        "    return ord(decrypted_word[0]) - ord(original_word[0])\n",
        "\n",
        "# Example usage with given words\n",
        "original_word = \"S3CURE!\"\n",
        "decrypted_word = \"V3FZWH!\"\n",
        "\n",
        "# Determine the shift value\n",
        "shift = find_shift(original_word, decrypted_word)\n",
        "\n",
        "# Coded message to decrypt\n",
        "coded_message = 'S3CURE'\n",
        "\n",
        "# Brute force through all possible shifts and display the results\n",
        "for counter in range(26):\n",
        "    guessed_message = caesar_cipher_decrypt(coded_message, counter)\n",
        "    print(counter, guessed_message)"
      ],
      "metadata": {
        "id": "ky5VIJXJTA6Z",
        "outputId": "d317a708-b369-4c18-b353-496b1d59e2c8",
        "colab": {
          "base_uri": "https://localhost:8080/"
        }
      },
      "execution_count": 66,
      "outputs": [
        {
          "output_type": "stream",
          "name": "stdout",
          "text": [
            "0 S3CURE\n",
            "1 R2BTQD\n",
            "2 Q1ASPC\n",
            "3 P0ZROB\n",
            "4 O9YQNA\n",
            "5 N8XPMZ\n",
            "6 M7WOLY\n",
            "7 L6VNKX\n",
            "8 K5UMJW\n",
            "9 J4TLIV\n",
            "10 I3SKHU\n",
            "11 H2RJGT\n",
            "12 G1QIFS\n",
            "13 F0PHER\n",
            "14 E9OGDQ\n",
            "15 D8NFCP\n",
            "16 C7MEBO\n",
            "17 B6LDAN\n",
            "18 A5KCZM\n",
            "19 Z4JBYL\n",
            "20 Y3IAXK\n",
            "21 X2HZWJ\n",
            "22 W1GYVI\n",
            "23 V0FXUH\n",
            "24 U9EWTG\n",
            "25 T8DVSF\n"
          ]
        }
      ]
    }
  ],
  "metadata": {
    "kernelspec": {
      "display_name": "Python 3.7 (DL)",
      "language": "python",
      "name": "dl"
    },
    "language_info": {
      "codemirror_mode": {
        "name": "ipython",
        "version": 3
      },
      "file_extension": ".py",
      "mimetype": "text/x-python",
      "name": "python",
      "nbconvert_exporter": "python",
      "pygments_lexer": "ipython3",
      "version": "3.7.7"
    },
    "colab": {
      "provenance": []
    }
  },
  "nbformat": 4,
  "nbformat_minor": 0
}